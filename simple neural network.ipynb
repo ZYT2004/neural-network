{
 "cells": [
  {
   "cell_type": "code",
   "execution_count": 13,
   "id": "48c4f5cc",
   "metadata": {},
   "outputs": [],
   "source": [
    "import numpy"
   ]
  },
  {
   "cell_type": "code",
   "execution_count": 14,
   "id": "9e994590",
   "metadata": {},
   "outputs": [],
   "source": [
    "import scipy.special"
   ]
  },
  {
   "cell_type": "code",
   "execution_count": 18,
   "id": "fc8ba241",
   "metadata": {},
   "outputs": [],
   "source": [
    "#nueral network class definition\n",
    "class neuralNetwork:\n",
    "    #initialise the neural network\n",
    "    def __init__(self,inputnodes,hiddennodes,outputnodes,learningrate):\n",
    "        #set number of nodes in each input,hidden,output layer\n",
    "        self.inodes=inputnodes\n",
    "        self.hnodes=hiddennodes\n",
    "        self.onodes=outputnodes\n",
    "        \n",
    "        #link weight matrices,wih and who\n",
    "        #weights inside the arrays are w_i_j,where link is\n",
    "        #from node i to node j\n",
    "        self.wih=numpy.random.normal(0.0,pow(self.hnodes,-0.5),(self.hnodes,self.inodes))\n",
    "        self.who=numpy.random.normal(0.0,pow(self.onodes,-0.5),(self.onodes,self.hnodes))\n",
    "        \n",
    "        #learning rate\n",
    "        self.lr=learningrate\n",
    "        \n",
    "        #activation function is the sigmoid function\n",
    "        self.activation_function=lambda x:scipy.special.expit(x)\n",
    "        pass\n",
    "    \n",
    "    #train the neural network\n",
    "    def train():\n",
    "        pass\n",
    "    \n",
    "    #query the neural network\n",
    "    def query(self,inputs_list):\n",
    "        #convert inputs list to 2d array\n",
    "        #数组才能进行向量操作\n",
    "        #T表示转置，将行向量转置为列向量\n",
    "        inputs=numpy.array(inputs_list,ndmin=2).T\n",
    "        #calculate the signals into hidden layer\n",
    "        hidden_inputs=numpy.dot(self.wih,inputs)\n",
    "        #calculate the signals emerging from hidden layer\n",
    "        hidden_outputs=self.activation_function(hidden_inputs)\n",
    "        #calculate signals into final output layer\n",
    "        final_inputs=numpy.dot(self.who,hidden_outputs)\n",
    "        #calculate the signals emerging from final output layer\n",
    "        final_outputs=self.activation_function(final_inputs)\n",
    "        return final_outputs\n",
    "        pass\n",
    "    pass"
   ]
  },
  {
   "cell_type": "code",
   "execution_count": 19,
   "id": "754e4d1b",
   "metadata": {},
   "outputs": [],
   "source": [
    "#number of input,hidden and output nodes\n",
    "input_nodes=3\n",
    "hidden_nodes=3\n",
    "output_nodes=3\n",
    "\n",
    "#learning rate is 0.3\n",
    "learning_rate=0.3\n",
    "\n",
    "#create instance of neural network\n",
    "n=neuralNetwork(input_nodes,hidden_nodes,output_nodes,learning_rate)"
   ]
  },
  {
   "cell_type": "code",
   "execution_count": 20,
   "id": "a221dc7a",
   "metadata": {},
   "outputs": [
    {
     "data": {
      "text/plain": [
       "array([[0.64860144],\n",
       "       [0.48432012],\n",
       "       [0.55943279]])"
      ]
     },
     "execution_count": 20,
     "metadata": {},
     "output_type": "execute_result"
    }
   ],
   "source": [
    "n.query([1.0,0.5,-1.5])"
   ]
  },
  {
   "cell_type": "code",
   "execution_count": null,
   "id": "9015922f",
   "metadata": {},
   "outputs": [],
   "source": []
  }
 ],
 "metadata": {
  "kernelspec": {
   "display_name": "Python 3 (ipykernel)",
   "language": "python",
   "name": "python3"
  },
  "language_info": {
   "codemirror_mode": {
    "name": "ipython",
    "version": 3
   },
   "file_extension": ".py",
   "mimetype": "text/x-python",
   "name": "python",
   "nbconvert_exporter": "python",
   "pygments_lexer": "ipython3",
   "version": "3.9.13"
  }
 },
 "nbformat": 4,
 "nbformat_minor": 5
}
